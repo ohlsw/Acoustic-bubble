{
  "nbformat": 4,
  "nbformat_minor": 0,
  "metadata": {
    "colab": {
      "name": "Acoustic bubble-background noise exstraction.ipynb",
      "provenance": [],
      "collapsed_sections": []
    },
    "kernelspec": {
      "name": "python3",
      "display_name": "Python 3"
    },
    "language_info": {
      "name": "python"
    }
  },
  "cells": [
    {
      "cell_type": "code",
      "execution_count": null,
      "metadata": {
        "id": "WgMXDUW517oe"
      },
      "outputs": [],
      "source": [
        "#read in data from txt file in to Numpy\n",
        "#plot graph\n",
        "#exstract the parts needed\n",
        "#plot both graphs in the same figure\n",
        "#minus off background signal\n",
        "#plot bubble response graph"
      ]
    },
    {
      "cell_type": "code",
      "source": [
        "from google.colab import drive\n",
        "drive.mount('/content/drive')"
      ],
      "metadata": {
        "colab": {
          "base_uri": "https://localhost:8080/"
        },
        "id": "3SlJHasEPAE2",
        "outputId": "c2da0946-e68f-42af-d6d2-299974712494"
      },
      "execution_count": null,
      "outputs": [
        {
          "output_type": "stream",
          "name": "stdout",
          "text": [
            "Mounted at /content/drive\n"
          ]
        }
      ]
    },
    {
      "cell_type": "code",
      "source": [
        "import matplotlib.pyplot as plt\n",
        "import numpy as np\n",
        "\n",
        "fpath1 = \"/content/drive/MyDrive/2022Experiments/lab230222-00005_C1.txt\"\n",
        "fpath2 = \"/content/drive/MyDrive/2022Experiments/lab230222-00006_C1.txt\"\n",
        "\n",
        "x = []\n",
        "y = []\n",
        "x1 = []\n",
        "y1 = []\n",
        "with open(fpath1) as f:\n",
        "    contents = f.readlines()\n",
        "    for i in range(5):\n",
        "      print(\"Header line {}: {}\".format(i+1,contents[i]))\n",
        "    for line in contents[5:50000]:\n",
        "      data = line.split(\",\")\n",
        "      x.append(float(data[0]))\n",
        "      y.append(float(data[1]))\n",
        "\n",
        "with open(fpath2) as f:\n",
        "    contents = f.readlines()\n",
        "    for i in range(5):\n",
        "      print(\"Header line {}: {}\".format(i+1,contents[i]))\n",
        "    for line in contents[5:50000]:\n",
        "      data = line.split(\",\")\n",
        "      x1.append(float(data[0]))\n",
        "      y1.append(float(data[1]))\n",
        "\n",
        "#plt.plot(x,y)\n",
        "#plt.plot(x1,y1)\n",
        "y2 = np.array(y) - np.array(y1)\n",
        "plt.plot(x,y2)\n",
        "\n",
        "plt.show()"
      ],
      "metadata": {
        "colab": {
          "base_uri": "https://localhost:8080/",
          "height": 636
        },
        "id": "udHrFOz6RLvJ",
        "outputId": "d24ec0e7-8821-416c-f437-48a41ea6c271"
      },
      "execution_count": null,
      "outputs": [
        {
          "output_type": "stream",
          "name": "stdout",
          "text": [
            "Header line 1: LECROYMAUI,0,Waveform\n",
            "\n",
            "Header line 2: Segments,1,SegmentSize,100002\n",
            "\n",
            "Header line 3: Segment,TrigTime,TimeSinceSegment1\n",
            "\n",
            "Header line 4: #1,23-Feb-2022 15:53:23,0                 \n",
            "\n",
            "Header line 5: Time,Ampl\n",
            "\n",
            "Header line 1: LECROYMAUI,0,Waveform\n",
            "\n",
            "Header line 2: Segments,1,SegmentSize,100002\n",
            "\n",
            "Header line 3: Segment,TrigTime,TimeSinceSegment1\n",
            "\n",
            "Header line 4: #1,23-Feb-2022 15:54:42,0                 \n",
            "\n",
            "Header line 5: Time,Ampl\n",
            "\n"
          ]
        },
        {
          "output_type": "display_data",
          "data": {
            "image/png": "[encoded data removed]",
            "text/plain": [
              "<Figure size 432x288 with 1 Axes>"
            ]
          },
          "metadata": {
            "needs_background": "light"
          }
        }
      ]
    },
    {
      "cell_type": "code",
      "source": [
        "from scipy.fftpack import fft, ifft\n",
        "from scipy.signal import find_peaks\n",
        "\n",
        "sr= 49995/0.10\n",
        "Y = fft(y2)\n",
        "N = len(Y)\n",
        "n = np.arange(N)\n",
        "T = N/sr\n",
        "freq = n/T \n",
        "\n",
        "plt.stem(freq, np.abs(Y), 'b', markerfmt=\" \", basefmt=\"-b\")\n",
        "plt.xlabel('Freq (Hz)')\n",
        "plt.ylabel('FFT Amplitude |X(freq)|')\n",
        "plt.title('Bubble minus background signal')\n",
        "plt.xlim(0, 1000)\n",
        "\n",
        "#Find peaks\n",
        "peaks = find_peaks(Y, height = 3, threshold = 1, distance = 1)\n",
        "height = peaks[1]['peak_heights'] #list containing the height of the peaks\n",
        "peak_pos = freq[peaks[0]]   #list containing the positions of the peaks  "
      ],
      "metadata": {
        "colab": {
          "base_uri": "https://localhost:8080/",
          "height": 389
        },
        "id": "Y4Uy0pm7rkHg",
        "outputId": "2193f3f9-5a22-47da-ad60-3b18a48fc900"
      },
      "execution_count": null,
      "outputs": [
        {
          "output_type": "stream",
          "name": "stderr",
          "text": [
            "/usr/local/lib/python3.7/dist-packages/ipykernel_launcher.py:11: UserWarning: In Matplotlib 3.3 individual lines on a stem plot will be added as a LineCollection instead of individual lines. This significantly improves the performance of a stem plot. To remove this warning and switch to the new behaviour, set the \"use_line_collection\" keyword argument to True.\n",
            "  # This is added back by InteractiveShellApp.init_path()\n",
            "/usr/local/lib/python3.7/dist-packages/scipy/signal/_peak_finding.py:264: ComplexWarning: Casting complex values to real discards the imaginary part\n",
            "  value = np.asarray(value, order='C', dtype=np.float64)\n"
          ]
        },
        {
          "output_type": "display_data",
          "data": {
            "image/png": "[encoded data removed]",
            "text/plain": [
              "<Figure size 432x288 with 1 Axes>"
            ]
          },
          "metadata": {
            "needs_background": "light"
          }
        }
      ]
    },
    {
      "cell_type": "code",
      "source": [
        "print(\"Peak Ampl:\",height)\n",
        "print(\"Corresponding Freq:\",peak_pos)"
      ],
      "metadata": {
        "colab": {
          "base_uri": "https://localhost:8080/"
        },
        "id": "j9HxT1WAcEYb",
        "outputId": "75db5032-eca8-4751-8d60-d0435e5da7ef"
      },
      "execution_count": null,
      "outputs": [
        {
          "output_type": "stream",
          "name": "stdout",
          "text": [
            "Peak Ampl: [3.98435174 6.05890239 6.05890239 3.98435174]\n",
            "Corresponding Freq: [3.2000e+02 3.5000e+02 4.9960e+05 4.9963e+05]\n"
          ]
        }
      ]
    },
    {
      "cell_type": "code",
      "source": [
        "from scipy.fftpack import fft, ifft\n",
        "\n",
        "sr= 49995/0.10\n",
        "Y = fft(y1)\n",
        "N = len(Y)\n",
        "n = np.arange(N)\n",
        "T = N/sr\n",
        "freq = n/T \n",
        "\n",
        "plt.stem(freq, np.abs(Y), 'r', markerfmt=\" \", basefmt=\"-b\")\n",
        "plt.xlabel('Freq (Hz)')\n",
        "plt.ylabel('FFT Amplitude |X(freq)|')\n",
        "plt.title('Background signal-no bubble')\n",
        "plt.xlim(0, 1000)"
      ],
      "metadata": {
        "id": "mvFV874-rgws",
        "colab": {
          "base_uri": "https://localhost:8080/",
          "height": 371
        },
        "outputId": "fe28f972-3cd0-4197-e353-b8e83807e6c4"
      },
      "execution_count": null,
      "outputs": [
        {
          "output_type": "stream",
          "name": "stderr",
          "text": [
            "/usr/local/lib/python3.7/dist-packages/ipykernel_launcher.py:10: UserWarning: In Matplotlib 3.3 individual lines on a stem plot will be added as a LineCollection instead of individual lines. This significantly improves the performance of a stem plot. To remove this warning and switch to the new behaviour, set the \"use_line_collection\" keyword argument to True.\n",
            "  # Remove the CWD from sys.path while we load stuff.\n"
          ]
        },
        {
          "output_type": "execute_result",
          "data": {
            "text/plain": [
              "(0.0, 1000.0)"
            ]
          },
          "metadata": {},
          "execution_count": 7
        },
        {
          "output_type": "display_data",
          "data": {
            "image/png": "[encoded data removed]",
            "text/plain": [
              "<Figure size 432x288 with 1 Axes>"
            ]
          },
          "metadata": {
            "needs_background": "light"
          }
        }
      ]
    },
    {
      "cell_type": "code",
      "source": [
        "sr= 49995/0.10\n",
        "Y = fft(y)\n",
        "N = len(Y)\n",
        "n = np.arange(N)\n",
        "T = N/sr\n",
        "freq = n/T \n",
        "\n",
        "plt.stem(freq, np.abs(Y), 'g', markerfmt=\" \", basefmt=\"-b\")\n",
        "plt.xlabel('Freq (Hz)')\n",
        "plt.ylabel('FFT Amplitude |X(freq)|')\n",
        "plt.title('Bubble with background signal')\n",
        "plt.xlim(0, 1000)"
      ],
      "metadata": {
        "colab": {
          "base_uri": "https://localhost:8080/",
          "height": 371
        },
        "id": "Pupvjy5PX2Mj",
        "outputId": "759e0884-d51b-4389-9caf-9a09b996df20"
      },
      "execution_count": null,
      "outputs": [
        {
          "output_type": "stream",
          "name": "stderr",
          "text": [
            "/usr/local/lib/python3.7/dist-packages/ipykernel_launcher.py:8: UserWarning: In Matplotlib 3.3 individual lines on a stem plot will be added as a LineCollection instead of individual lines. This significantly improves the performance of a stem plot. To remove this warning and switch to the new behaviour, set the \"use_line_collection\" keyword argument to True.\n",
            "  \n"
          ]
        },
        {
          "output_type": "execute_result",
          "data": {
            "text/plain": [
              "(0.0, 1000.0)"
            ]
          },
          "metadata": {},
          "execution_count": 5
        },
        {
          "output_type": "display_data",
          "data": {
            "image/png": "[encoded data removed]",
            "text/plain": [
              "<Figure size 432x288 with 1 Axes>"
            ]
          },
          "metadata": {
            "needs_background": "light"
          }
        }
      ]
    },
    {
      "cell_type": "code",
      "source": [
        ""
      ],
      "metadata": {
        "id": "YpycuAi1rlxf"
      },
      "execution_count": null,
      "outputs": []
    }
  ]
}